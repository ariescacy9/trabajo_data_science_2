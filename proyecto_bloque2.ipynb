{
  "cells": [
    {
      "cell_type": "markdown",
      "metadata": {
        "id": "view-in-github",
        "colab_type": "text"
      },
      "source": [
        "<a href=\"https://colab.research.google.com/github/ariescacy9/trabajo_data_science_2/blob/main/proyecto_bloque2.ipynb\" target=\"_parent\"><img src=\"https://colab.research.google.com/assets/colab-badge.svg\" alt=\"Open In Colab\"/></a>"
      ]
    },
    {
      "cell_type": "markdown",
      "source": [
        "# MODELO PARA DETECCIÓN DE DERRUMBES"
      ],
      "metadata": {
        "id": "zT9LrhnNABMc"
      }
    },
    {
      "cell_type": "markdown",
      "source": [
        "Los paises con una diversa topografía que incluye altas montañas y valles profundos, es frecuentemente golpeado por intensas precipitaciones, lo que lo hace altamente susceptible a deslizamientos de tierra inducidos por lluvias. Un deslizamiento de tierra es el movimiento de masas de roca, escombros o tierra cuesta abajo y puede resultar en una pérdida significativa de vidas y propiedades. Un inventario de deslizamientos de tierra de alta calidad es esencial no solo para el análisis de riesgos y peligros por deslizamientos, sino también para apoyar las decisiones de las agencias sobre la mitigación y prevención de estos peligros."
      ],
      "metadata": {
        "id": "xnKjYkCwBFpz"
      }
    },
    {
      "cell_type": "markdown",
      "source": [
        "**Reto:**\n",
        "Predecir zonas con posibilidad de derrumbe (1: Sí, 0: No)"
      ],
      "metadata": {
        "id": "fme9P-L9BOI5"
      }
    },
    {
      "cell_type": "markdown",
      "source": [
        "##**Archivos**\n",
        "*train_set.csv* - Datos de entrenamiento con columna target\n",
        "*test_set.csv *- Datos de evaluación sin el target\n",
        "*sample_submission.csv* - Archivo de ejemplo de como deberian realizar el submission\n",
        "Cada muestra está compuesta por datos de 25 celdas, cubriendo un área de 625 m2. Cada celda representa un área de 5 x 5 m2 y tiene nueve características (como se ve en los cuadrantes mostrados luego). Para una muestra de deslizamiento de tierra, la celda 13 es la ubicación del deslizamiento, y las otras celdas son las áreas vecinas. Para una muestra sin deslizamiento de tierra, no hay un deslizamiento de tierra registrado dentro del área de la muestra."
      ],
      "metadata": {
        "id": "-kajQPJPCSwh"
      }
    },
    {
      "cell_type": "markdown",
      "metadata": {
        "id": "EuaLmzJ0RwVC"
      },
      "source": [
        "Libraries"
      ]
    },
    {
      "cell_type": "code",
      "execution_count": 2,
      "metadata": {
        "id": "PuwBheNZP5aH"
      },
      "outputs": [],
      "source": [
        "import pandas as pd\n",
        "import tensorflow as tf\n",
        "import numpy as np\n",
        "\n",
        "import matplotlib.pyplot as plt\n",
        "import seaborn as sns\n",
        "import pickle\n",
        "\n",
        "from sklearn.model_selection import train_test_split\n",
        "from sklearn.preprocessing import StandardScaler\n",
        "from sklearn.ensemble import RandomForestClassifier\n",
        "from sklearn.svm import SVC\n",
        "from sklearn.neural_network import MLPClassifier\n",
        "from sklearn.metrics import accuracy_score\n",
        "from sklearn.metrics import precision_score\n",
        "from sklearn.metrics import recall_score\n",
        "from sklearn.metrics import confusion_matrix\n",
        "from sklearn.metrics import classification_report\n",
        "from sklearn.model_selection import GridSearchCV\n",
        "from sklearn.model_selection import StratifiedKFold\n",
        "from sklearn.utils import shuffle\n",
        "from sklearn.preprocessing import PolynomialFeatures\n",
        "from imblearn.over_sampling import RandomOverSampler\n",
        "from imblearn.under_sampling import RandomUnderSampler\n",
        "\n",
        "from google.colab import files"
      ]
    },
    {
      "cell_type": "code",
      "execution_count": 3,
      "metadata": {
        "colab": {
          "base_uri": "https://localhost:8080/"
        },
        "id": "0PfTw2GOSEG3",
        "outputId": "b21cd69b-7303-4551-db0b-084efa283ef8"
      },
      "outputs": [
        {
          "output_type": "stream",
          "name": "stdout",
          "text": [
            "Mounted at /content/drive\n"
          ]
        }
      ],
      "source": [
        "from google.colab import drive\n",
        "drive.mount('/content/drive')"
      ]
    },
    {
      "cell_type": "markdown",
      "metadata": {
        "id": "NFU0HljwUwxH"
      },
      "source": [
        "Creacion de dataframes"
      ]
    },
    {
      "cell_type": "code",
      "execution_count": 4,
      "metadata": {
        "id": "Ry598K9ix-yB"
      },
      "outputs": [],
      "source": [
        "# Cargar datos\n",
        "train_data = pd.read_csv(\"/content/drive/MyDrive/base_de_datos/train_set.csv\")\n",
        "test_data = pd.read_csv(\"/content/drive/MyDrive/base_de_datos/test_set.csv\")\n",
        "\n",
        "# Seleccionar características y variable objetivo\n",
        "X = train_data.drop(['ID', 'target'], axis=1)\n",
        "y = train_data['target']"
      ]
    },
    {
      "cell_type": "markdown",
      "metadata": {
        "id": "evwS25e20OYA"
      },
      "source": [
        "Analisis exploratorio"
      ]
    },
    {
      "cell_type": "code",
      "execution_count": 5,
      "metadata": {
        "id": "9zjhRsjgzMtQ"
      },
      "outputs": [],
      "source": [
        "# Calcular la matriz de correlación, ya que podrían proporcionar información redundante.\n",
        "correlation_matrix = X.corr()\n",
        "\n",
        "# Crear una matriz triangular superior de la matriz de correlación\n",
        "upper_triangle = correlation_matrix.where(np.triu(np.ones(correlation_matrix.shape), k=1).astype(bool))\n",
        "\n",
        "# Definir el umbral\n",
        "threshold = 0.8\n",
        "\n",
        "# Encontrar y eliminar características altamente correlacionadas\n",
        "to_drop = [column for column in upper_triangle.columns if any(upper_triangle[column] > threshold)]\n",
        "X = X.drop(to_drop, axis=1)\n",
        "X_test = pd.get_dummies(test_data.drop(columns=to_drop))\n",
        "X_test = X_test.drop(['ID'], axis=1)"
      ]
    },
    {
      "cell_type": "code",
      "execution_count": 6,
      "metadata": {
        "colab": {
          "base_uri": "https://localhost:8080/"
        },
        "id": "5Uh8e4NS1YKx",
        "outputId": "f43d68a6-2b36-4381-a5e9-646ae6ba2007"
      },
      "outputs": [
        {
          "output_type": "stream",
          "name": "stdout",
          "text": [
            "157\n"
          ]
        }
      ],
      "source": [
        "# Cantidad de caracteristicas dropeadas\n",
        "upper_triangle\n",
        "print(len(to_drop))"
      ]
    },
    {
      "cell_type": "code",
      "execution_count": 7,
      "metadata": {
        "id": "3vIvDJ_RK117"
      },
      "outputs": [],
      "source": [
        "# Aplicar técnicas de aumento de datos\n",
        "poly = PolynomialFeatures(degree=2, include_bias=False)\n",
        "X_train_augmented = poly.fit_transform(X)\n",
        "X_test_augmented = poly.fit_transform(X_test)\n",
        "X_train_augmented, y_train_augmented = shuffle(X_train_augmented, y)"
      ]
    },
    {
      "cell_type": "markdown",
      "source": [
        "Model testing"
      ],
      "metadata": {
        "id": "2IcX-8gw1GQl"
      }
    },
    {
      "cell_type": "code",
      "execution_count": 8,
      "metadata": {
        "id": "dG73ASYptpBS"
      },
      "outputs": [],
      "source": [
        "# Splitear datos para el entrenamiento de prueba\n",
        "# X_train, X_val, y_train, y_val = train_test_split(X, y, test_size=0.2, random_state=1)\n",
        "X_train, X_val, y_train, y_val = train_test_split(X_train_augmented, y_train_augmented, test_size=0.2, random_state=1)"
      ]
    },
    {
      "cell_type": "code",
      "execution_count": 9,
      "metadata": {
        "id": "sZ9Qnp06gsxZ"
      },
      "outputs": [],
      "source": [
        "# Aplicar oversampling o undersampling\n",
        "oversampler = RandomOverSampler(sampling_strategy='minority')\n",
        "X_resampled, y_resampled = oversampler.fit_resample(X_train, y_train)\n",
        "\n",
        "# O bien, usar undersampling\n",
        "# undersampler = RandomUnderSampler(sampling_strategy='majority')\n",
        "# X_resampled, y_resampled = undersampler.fit_resample(X_train, y_train)"
      ]
    },
    {
      "cell_type": "markdown",
      "source": [
        "Definir configuracion optima del modelo para los datos proporcionados"
      ],
      "metadata": {
        "id": "71pY0kRy1uGy"
      }
    },
    {
      "cell_type": "code",
      "execution_count": 12,
      "metadata": {
        "colab": {
          "base_uri": "https://localhost:8080/"
        },
        "id": "lx2iQlGpHJL6",
        "outputId": "428391d3-7fd6-44eb-8a00-24e926f0eeac"
      },
      "outputs": [
        {
          "output_type": "stream",
          "name": "stdout",
          "text": [
            "Mejores hiperparámetros: {'max_depth': 20, 'n_estimators': 100}\n"
          ]
        }
      ],
      "source": [
        "# Definir los hiperparámetros a ajustar\n",
        "param_grid = {\n",
        "    'n_estimators': [50, 100],\n",
        "    'max_depth': [None, 10, 20],\n",
        "}\n",
        "\n",
        "# Inicializar el clasificador\n",
        "rf_model = RandomForestClassifier()\n",
        "\n",
        "# Realizar búsqueda de cuadrícula\n",
        "grid_search = GridSearchCV(rf_model,\n",
        "                           param_grid,\n",
        "                           scoring='recall',\n",
        "                           cv=5)\n",
        "# grid_search.fit(X_train, y_train)\n",
        "grid_search.fit(X_resampled, y_resampled)\n",
        "\n",
        "# Obtener los mejores hiperparámetros\n",
        "best_params = grid_search.best_params_\n",
        "print(\"Mejores hiperparámetros:\", best_params)"
      ]
    },
    {
      "cell_type": "markdown",
      "source": [
        "Model training"
      ],
      "metadata": {
        "id": "wSfoCMRJ3k_Q"
      }
    },
    {
      "cell_type": "code",
      "execution_count": 13,
      "metadata": {
        "colab": {
          "base_uri": "https://localhost:8080/",
          "height": 75
        },
        "id": "YDgfHzMi1_xO",
        "outputId": "0bf1478e-ea3e-464f-d8da-7eb3f1eefd9b"
      },
      "outputs": [
        {
          "output_type": "execute_result",
          "data": {
            "text/plain": [
              "RandomForestClassifier(max_depth=10, n_estimators=500, random_state=1)"
            ],
            "text/html": [
              "<style>#sk-container-id-1 {color: black;background-color: white;}#sk-container-id-1 pre{padding: 0;}#sk-container-id-1 div.sk-toggleable {background-color: white;}#sk-container-id-1 label.sk-toggleable__label {cursor: pointer;display: block;width: 100%;margin-bottom: 0;padding: 0.3em;box-sizing: border-box;text-align: center;}#sk-container-id-1 label.sk-toggleable__label-arrow:before {content: \"▸\";float: left;margin-right: 0.25em;color: #696969;}#sk-container-id-1 label.sk-toggleable__label-arrow:hover:before {color: black;}#sk-container-id-1 div.sk-estimator:hover label.sk-toggleable__label-arrow:before {color: black;}#sk-container-id-1 div.sk-toggleable__content {max-height: 0;max-width: 0;overflow: hidden;text-align: left;background-color: #f0f8ff;}#sk-container-id-1 div.sk-toggleable__content pre {margin: 0.2em;color: black;border-radius: 0.25em;background-color: #f0f8ff;}#sk-container-id-1 input.sk-toggleable__control:checked~div.sk-toggleable__content {max-height: 200px;max-width: 100%;overflow: auto;}#sk-container-id-1 input.sk-toggleable__control:checked~label.sk-toggleable__label-arrow:before {content: \"▾\";}#sk-container-id-1 div.sk-estimator input.sk-toggleable__control:checked~label.sk-toggleable__label {background-color: #d4ebff;}#sk-container-id-1 div.sk-label input.sk-toggleable__control:checked~label.sk-toggleable__label {background-color: #d4ebff;}#sk-container-id-1 input.sk-hidden--visually {border: 0;clip: rect(1px 1px 1px 1px);clip: rect(1px, 1px, 1px, 1px);height: 1px;margin: -1px;overflow: hidden;padding: 0;position: absolute;width: 1px;}#sk-container-id-1 div.sk-estimator {font-family: monospace;background-color: #f0f8ff;border: 1px dotted black;border-radius: 0.25em;box-sizing: border-box;margin-bottom: 0.5em;}#sk-container-id-1 div.sk-estimator:hover {background-color: #d4ebff;}#sk-container-id-1 div.sk-parallel-item::after {content: \"\";width: 100%;border-bottom: 1px solid gray;flex-grow: 1;}#sk-container-id-1 div.sk-label:hover label.sk-toggleable__label {background-color: #d4ebff;}#sk-container-id-1 div.sk-serial::before {content: \"\";position: absolute;border-left: 1px solid gray;box-sizing: border-box;top: 0;bottom: 0;left: 50%;z-index: 0;}#sk-container-id-1 div.sk-serial {display: flex;flex-direction: column;align-items: center;background-color: white;padding-right: 0.2em;padding-left: 0.2em;position: relative;}#sk-container-id-1 div.sk-item {position: relative;z-index: 1;}#sk-container-id-1 div.sk-parallel {display: flex;align-items: stretch;justify-content: center;background-color: white;position: relative;}#sk-container-id-1 div.sk-item::before, #sk-container-id-1 div.sk-parallel-item::before {content: \"\";position: absolute;border-left: 1px solid gray;box-sizing: border-box;top: 0;bottom: 0;left: 50%;z-index: -1;}#sk-container-id-1 div.sk-parallel-item {display: flex;flex-direction: column;z-index: 1;position: relative;background-color: white;}#sk-container-id-1 div.sk-parallel-item:first-child::after {align-self: flex-end;width: 50%;}#sk-container-id-1 div.sk-parallel-item:last-child::after {align-self: flex-start;width: 50%;}#sk-container-id-1 div.sk-parallel-item:only-child::after {width: 0;}#sk-container-id-1 div.sk-dashed-wrapped {border: 1px dashed gray;margin: 0 0.4em 0.5em 0.4em;box-sizing: border-box;padding-bottom: 0.4em;background-color: white;}#sk-container-id-1 div.sk-label label {font-family: monospace;font-weight: bold;display: inline-block;line-height: 1.2em;}#sk-container-id-1 div.sk-label-container {text-align: center;}#sk-container-id-1 div.sk-container {/* jupyter's `normalize.less` sets `[hidden] { display: none; }` but bootstrap.min.css set `[hidden] { display: none !important; }` so we also need the `!important` here to be able to override the default hidden behavior on the sphinx rendered scikit-learn.org. See: https://github.com/scikit-learn/scikit-learn/issues/21755 */display: inline-block !important;position: relative;}#sk-container-id-1 div.sk-text-repr-fallback {display: none;}</style><div id=\"sk-container-id-1\" class=\"sk-top-container\"><div class=\"sk-text-repr-fallback\"><pre>RandomForestClassifier(max_depth=10, n_estimators=500, random_state=1)</pre><b>In a Jupyter environment, please rerun this cell to show the HTML representation or trust the notebook. <br />On GitHub, the HTML representation is unable to render, please try loading this page with nbviewer.org.</b></div><div class=\"sk-container\" hidden><div class=\"sk-item\"><div class=\"sk-estimator sk-toggleable\"><input class=\"sk-toggleable__control sk-hidden--visually\" id=\"sk-estimator-id-1\" type=\"checkbox\" checked><label for=\"sk-estimator-id-1\" class=\"sk-toggleable__label sk-toggleable__label-arrow\">RandomForestClassifier</label><div class=\"sk-toggleable__content\"><pre>RandomForestClassifier(max_depth=10, n_estimators=500, random_state=1)</pre></div></div></div></div></div>"
            ]
          },
          "metadata": {},
          "execution_count": 13
        }
      ],
      "source": [
        "model = RandomForestClassifier(n_estimators=500, max_depth=10, random_state=1)\n",
        "# model.fit(X_train, y_train)\n",
        "model.fit(X_resampled, y_resampled)"
      ]
    },
    {
      "cell_type": "markdown",
      "metadata": {
        "id": "t_4Tz3iExaL2"
      },
      "source": [
        "Score Test"
      ]
    },
    {
      "cell_type": "code",
      "execution_count": 14,
      "metadata": {
        "colab": {
          "base_uri": "https://localhost:8080/"
        },
        "id": "_V8qvUB8tv59",
        "outputId": "bb55152f-caea-4dbe-a796-5566fbd0f5ae"
      },
      "outputs": [
        {
          "output_type": "stream",
          "name": "stdout",
          "text": [
            "Accuracy on validation set: 0.80671\n",
            "Precision: 0.58705\n",
            "Recall: 0.70699\n",
            "final score: 0.64146\n",
            "Confusion Matrix:\n",
            " [[964 185]\n",
            " [109 263]]\n",
            "Classification Report:\n",
            "               precision    recall  f1-score   support\n",
            "\n",
            "           0       0.90      0.84      0.87      1149\n",
            "           1       0.59      0.71      0.64       372\n",
            "\n",
            "    accuracy                           0.81      1521\n",
            "   macro avg       0.74      0.77      0.75      1521\n",
            "weighted avg       0.82      0.81      0.81      1521\n",
            "\n"
          ]
        }
      ],
      "source": [
        "y_pred = model.predict(X_val)\n",
        "accuracy = accuracy_score(y_val, y_pred)\n",
        "print(f\"Accuracy on validation set: {accuracy:.5f}\")\n",
        "precision = precision_score(y_val, y_pred)\n",
        "print(f\"Precision: {precision:.5f}\")\n",
        "recall = recall_score(y_val, y_pred)\n",
        "print(f\"Recall: {recall:.5f}\")\n",
        "print(f\"final score: {2*precision*recall/(precision+recall):.5f}\")\n",
        "print(\"Confusion Matrix:\\n\", confusion_matrix(y_val, y_pred))\n",
        "print(\"Classification Report:\\n\", classification_report(y_val, y_pred))"
      ]
    },
    {
      "cell_type": "code",
      "execution_count": 15,
      "metadata": {
        "colab": {
          "base_uri": "https://localhost:8080/",
          "height": 34
        },
        "id": "Z9GeOCsakXWt",
        "outputId": "1220a73f-929b-47d6-8b9f-d551216de698"
      },
      "outputs": [
        {
          "output_type": "display_data",
          "data": {
            "text/plain": [
              "<IPython.core.display.Javascript object>"
            ],
            "application/javascript": [
              "\n",
              "      ((filepath) => {{\n",
              "        if (!google.colab.kernel.accessAllowed) {{\n",
              "          return;\n",
              "        }}\n",
              "        google.colab.files.view(filepath);\n",
              "      }})(\"/content/submission.csv\")"
            ]
          },
          "metadata": {}
        },
        {
          "output_type": "stream",
          "name": "stdout",
          "text": [
            "Your submission was successfully saved!\n"
          ]
        }
      ],
      "source": [
        "# predictions = model.predict(X_test)\n",
        "predictions = model.predict(X_test_augmented)\n",
        "output = pd.DataFrame({'ID': test_data.ID, 'target': predictions})\n",
        "output.to_csv('submission.csv', index=False)\n",
        "files.view(\"submission.csv\")\n",
        "print(\"Your submission was successfully saved!\")"
      ]
    },
    {
      "cell_type": "markdown",
      "source": [
        "Export with Pickle"
      ],
      "metadata": {
        "id": "voakkVe3Yno5"
      }
    },
    {
      "cell_type": "code",
      "source": [
        "# Guardar el modelo\n",
        "with open('proyecto_bloque2.pkl', 'wb') as file:\n",
        "    pickle.dump(model, file)\n",
        "\n",
        "# Luego, para cargar el modelo más tarde\n",
        "with open('proyecto_bloque2.pkl', 'rb') as file:\n",
        "    loaded_model = pickle.load(file)"
      ],
      "metadata": {
        "id": "6NP7FxnuYmHT"
      },
      "execution_count": 16,
      "outputs": []
    },
    {
      "cell_type": "code",
      "source": [
        "files.download('proyecto_bloque2.pkl')"
      ],
      "metadata": {
        "colab": {
          "base_uri": "https://localhost:8080/",
          "height": 17
        },
        "id": "pexws2kWZuUT",
        "outputId": "f3bc08b4-6d75-4380-88bf-b863de0974be"
      },
      "execution_count": 17,
      "outputs": [
        {
          "output_type": "display_data",
          "data": {
            "text/plain": [
              "<IPython.core.display.Javascript object>"
            ],
            "application/javascript": [
              "\n",
              "    async function download(id, filename, size) {\n",
              "      if (!google.colab.kernel.accessAllowed) {\n",
              "        return;\n",
              "      }\n",
              "      const div = document.createElement('div');\n",
              "      const label = document.createElement('label');\n",
              "      label.textContent = `Downloading \"${filename}\": `;\n",
              "      div.appendChild(label);\n",
              "      const progress = document.createElement('progress');\n",
              "      progress.max = size;\n",
              "      div.appendChild(progress);\n",
              "      document.body.appendChild(div);\n",
              "\n",
              "      const buffers = [];\n",
              "      let downloaded = 0;\n",
              "\n",
              "      const channel = await google.colab.kernel.comms.open(id);\n",
              "      // Send a message to notify the kernel that we're ready.\n",
              "      channel.send({})\n",
              "\n",
              "      for await (const message of channel.messages) {\n",
              "        // Send a message to notify the kernel that we're ready.\n",
              "        channel.send({})\n",
              "        if (message.buffers) {\n",
              "          for (const buffer of message.buffers) {\n",
              "            buffers.push(buffer);\n",
              "            downloaded += buffer.byteLength;\n",
              "            progress.value = downloaded;\n",
              "          }\n",
              "        }\n",
              "      }\n",
              "      const blob = new Blob(buffers, {type: 'application/binary'});\n",
              "      const a = document.createElement('a');\n",
              "      a.href = window.URL.createObjectURL(blob);\n",
              "      a.download = filename;\n",
              "      div.appendChild(a);\n",
              "      a.click();\n",
              "      div.remove();\n",
              "    }\n",
              "  "
            ]
          },
          "metadata": {}
        },
        {
          "output_type": "display_data",
          "data": {
            "text/plain": [
              "<IPython.core.display.Javascript object>"
            ],
            "application/javascript": [
              "download(\"download_27c69398-7d69-423a-b69b-94e31dff5aad\", \"proyecto_bloque2.pkl\", 17144168)"
            ]
          },
          "metadata": {}
        }
      ]
    }
  ],
  "metadata": {
    "colab": {
      "provenance": [],
      "include_colab_link": true
    },
    "kernelspec": {
      "display_name": "Python 3",
      "name": "python3"
    },
    "language_info": {
      "name": "python"
    }
  },
  "nbformat": 4,
  "nbformat_minor": 0
}